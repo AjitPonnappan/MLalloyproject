{
 "cells": [
  {
   "cell_type": "code",
   "execution_count": 1,
   "id": "cccee801-24ef-4447-b24a-a5035608876d",
   "metadata": {},
   "outputs": [],
   "source": [
    "import numpy as np\n",
    "import pymatgen as pymat\n",
    "import mendeleev as mendel\n",
    "from sklearn import datasets, linear_model\n",
    "from sklearn.metrics import mean_squared_error, r2_score\n",
    "from random import shuffle\n",
    "import matplotlib.pyplot as plt\n",
    "from pymatgen.core.periodic_table import Element\n",
    "\n",
    "fcc_elements = [\"Ag\", \"Al\", \"Au\", \"Cu\", \"Ir\", \"Ni\", \"Pb\", \"Pd\", \"Pt\", \"Rh\", \"Th\", \"Yb\"]\n",
    "bcc_elements = [\"Ba\", \"Cr\", \"Eu\", \"Fe\", \"Li\", \"Mn\", \"Mo\", \"Na\", \"Nb\", \"Ta\", \"V\", \"W\" ]\n",
    "hcp_elements = [\"Be\", \"Ca\", \"Cd\", \"Co\", \"Dy\", \"Er\", \"Gd\", \"Hf\", \"Ho\", \"Lu\", \"Mg\", \"Re\", \n",
    "                \"Ru\", \"Sc\", \"Tb\", \"Ti\", \"Tl\", \"Tm\", \"Y\", \"Zn\", \"Zr\"]\n",
    "others = [\"Sb\", \"Sm\", \"Bi\", \"Ce\", \"Sn\", \"Si\"]\n",
    "# Others (Solids): \"Sb\", \"Sm\", Bi\" and \"As\" are Rhombohedral; \"C\" , \"Ce\" and \"Sn\" are Allotropic; \n",
    "# \"Si\" and \"Ge\" are Face-centered diamond-cubic;\n",
    "\n",
    "elements = fcc_elements + bcc_elements + hcp_elements + others\n",
    "\n",
    "# This function randomly arranges the elements so we can have representation for all groups both in the training and testing set\n",
    "shuffle(elements) \n",
    "\n",
    "data_youngs_modulus = []\n",
    "data_lattice_constant = []\n",
    "data_melting_point = []\n",
    "data_specific_heat = []\n",
    "data_atomic_mass = []\n",
    "data_CTE = []\n",
    "\n",
    "for item in elements:\n",
    "    data_youngs_modulus.append(Element(item).youngs_modulus)\n",
    "    data_lattice_constant.append(mendel.element(item).lattice_constant)\n",
    "    data_melting_point.append(mendel.element(item).melting_point)\n",
    "    data_specific_heat.append(mendel.element(item).specific_heat)\n",
    "    data_atomic_mass.append(Element(item).atomic_mass)\n",
    "    data_CTE.append(Element(item).coefficient_of_linear_thermal_expansion)"
   ]
  },
  {
   "cell_type": "code",
   "execution_count": 2,
   "id": "bfff18f4-3ea5-47a9-a56c-5ca92f62e857",
   "metadata": {},
   "outputs": [
    {
     "data": {
      "text/html": [
       "<div>\n",
       "<style scoped>\n",
       "    .dataframe tbody tr th:only-of-type {\n",
       "        vertical-align: middle;\n",
       "    }\n",
       "\n",
       "    .dataframe tbody tr th {\n",
       "        vertical-align: top;\n",
       "    }\n",
       "\n",
       "    .dataframe thead th {\n",
       "        text-align: right;\n",
       "    }\n",
       "</style>\n",
       "<table border=\"1\" class=\"dataframe\">\n",
       "  <thead>\n",
       "    <tr style=\"text-align: right;\">\n",
       "      <th></th>\n",
       "      <th>E</th>\n",
       "      <th>a</th>\n",
       "      <th>Mpt</th>\n",
       "      <th>C</th>\n",
       "      <th>M</th>\n",
       "      <th>alpha</th>\n",
       "    </tr>\n",
       "  </thead>\n",
       "  <tbody>\n",
       "    <tr>\n",
       "      <th>Zr</th>\n",
       "      <td>68.0</td>\n",
       "      <td>3.23</td>\n",
       "      <td>2127.15</td>\n",
       "      <td>0.278</td>\n",
       "      <td>91.224000</td>\n",
       "      <td>0.000006</td>\n",
       "    </tr>\n",
       "    <tr>\n",
       "      <th>Co</th>\n",
       "      <td>209.0</td>\n",
       "      <td>2.51</td>\n",
       "      <td>1768.15</td>\n",
       "      <td>0.421</td>\n",
       "      <td>58.933195</td>\n",
       "      <td>0.000013</td>\n",
       "    </tr>\n",
       "    <tr>\n",
       "      <th>Zn</th>\n",
       "      <td>108.0</td>\n",
       "      <td>2.66</td>\n",
       "      <td>692.677</td>\n",
       "      <td>0.388</td>\n",
       "      <td>65.409000</td>\n",
       "      <td>0.000030</td>\n",
       "    </tr>\n",
       "    <tr>\n",
       "      <th>Si</th>\n",
       "      <td>47.0</td>\n",
       "      <td>5.43</td>\n",
       "      <td>1687.15</td>\n",
       "      <td>0.712</td>\n",
       "      <td>28.085500</td>\n",
       "      <td>0.000003</td>\n",
       "    </tr>\n",
       "    <tr>\n",
       "      <th>Ag</th>\n",
       "      <td>83.0</td>\n",
       "      <td>4.09</td>\n",
       "      <td>1234.93</td>\n",
       "      <td>0.235</td>\n",
       "      <td>107.868200</td>\n",
       "      <td>0.000019</td>\n",
       "    </tr>\n",
       "    <tr>\n",
       "      <th>Ru</th>\n",
       "      <td>447.0</td>\n",
       "      <td>2.70</td>\n",
       "      <td>2606.15</td>\n",
       "      <td>0.238</td>\n",
       "      <td>101.070000</td>\n",
       "      <td>0.000006</td>\n",
       "    </tr>\n",
       "    <tr>\n",
       "      <th>Yb</th>\n",
       "      <td>24.0</td>\n",
       "      <td>5.49</td>\n",
       "      <td>1097.15</td>\n",
       "      <td>0.155</td>\n",
       "      <td>173.040000</td>\n",
       "      <td>0.000026</td>\n",
       "    </tr>\n",
       "    <tr>\n",
       "      <th>W</th>\n",
       "      <td>411.0</td>\n",
       "      <td>3.16</td>\n",
       "      <td>3687.15</td>\n",
       "      <td>0.132</td>\n",
       "      <td>183.840000</td>\n",
       "      <td>0.000005</td>\n",
       "    </tr>\n",
       "    <tr>\n",
       "      <th>Tl</th>\n",
       "      <td>8.0</td>\n",
       "      <td>3.46</td>\n",
       "      <td>577.15</td>\n",
       "      <td>0.129</td>\n",
       "      <td>204.383300</td>\n",
       "      <td>0.000030</td>\n",
       "    </tr>\n",
       "    <tr>\n",
       "      <th>Ni</th>\n",
       "      <td>200.0</td>\n",
       "      <td>3.52</td>\n",
       "      <td>1728.15</td>\n",
       "      <td>0.444</td>\n",
       "      <td>58.693400</td>\n",
       "      <td>0.000013</td>\n",
       "    </tr>\n",
       "    <tr>\n",
       "      <th>Sc</th>\n",
       "      <td>74.0</td>\n",
       "      <td>3.31</td>\n",
       "      <td>1814.15</td>\n",
       "      <td>0.568</td>\n",
       "      <td>44.955912</td>\n",
       "      <td>0.000010</td>\n",
       "    </tr>\n",
       "    <tr>\n",
       "      <th>Eu</th>\n",
       "      <td>18.0</td>\n",
       "      <td>4.61</td>\n",
       "      <td>1095.15</td>\n",
       "      <td>0.182</td>\n",
       "      <td>151.964000</td>\n",
       "      <td>0.000035</td>\n",
       "    </tr>\n",
       "    <tr>\n",
       "      <th>Li</th>\n",
       "      <td>4.9</td>\n",
       "      <td>3.49</td>\n",
       "      <td>453.65</td>\n",
       "      <td>3.582</td>\n",
       "      <td>6.941000</td>\n",
       "      <td>0.000046</td>\n",
       "    </tr>\n",
       "    <tr>\n",
       "      <th>Mg</th>\n",
       "      <td>45.0</td>\n",
       "      <td>3.21</td>\n",
       "      <td>923.15</td>\n",
       "      <td>1.023</td>\n",
       "      <td>24.305000</td>\n",
       "      <td>0.000008</td>\n",
       "    </tr>\n",
       "    <tr>\n",
       "      <th>Pt</th>\n",
       "      <td>168.0</td>\n",
       "      <td>3.92</td>\n",
       "      <td>2041.35</td>\n",
       "      <td>0.133</td>\n",
       "      <td>195.084000</td>\n",
       "      <td>0.000009</td>\n",
       "    </tr>\n",
       "    <tr>\n",
       "      <th>Ce</th>\n",
       "      <td>34.0</td>\n",
       "      <td>5.16</td>\n",
       "      <td>1072.15</td>\n",
       "      <td>0.192</td>\n",
       "      <td>140.116000</td>\n",
       "      <td>0.000006</td>\n",
       "    </tr>\n",
       "    <tr>\n",
       "      <th>Pb</th>\n",
       "      <td>16.0</td>\n",
       "      <td>4.95</td>\n",
       "      <td>600.612</td>\n",
       "      <td>0.130</td>\n",
       "      <td>207.200000</td>\n",
       "      <td>0.000029</td>\n",
       "    </tr>\n",
       "    <tr>\n",
       "      <th>Rh</th>\n",
       "      <td>275.0</td>\n",
       "      <td>3.80</td>\n",
       "      <td>2236.15</td>\n",
       "      <td>0.243</td>\n",
       "      <td>102.905500</td>\n",
       "      <td>0.000008</td>\n",
       "    </tr>\n",
       "    <tr>\n",
       "      <th>Pd</th>\n",
       "      <td>121.0</td>\n",
       "      <td>3.89</td>\n",
       "      <td>1827.95</td>\n",
       "      <td>0.246</td>\n",
       "      <td>106.420000</td>\n",
       "      <td>0.000012</td>\n",
       "    </tr>\n",
       "    <tr>\n",
       "      <th>Mo</th>\n",
       "      <td>329.0</td>\n",
       "      <td>3.15</td>\n",
       "      <td>2895.15</td>\n",
       "      <td>0.251</td>\n",
       "      <td>95.940000</td>\n",
       "      <td>0.000005</td>\n",
       "    </tr>\n",
       "    <tr>\n",
       "      <th>Fe</th>\n",
       "      <td>211.0</td>\n",
       "      <td>2.87</td>\n",
       "      <td>1811.15</td>\n",
       "      <td>0.449</td>\n",
       "      <td>55.845000</td>\n",
       "      <td>0.000012</td>\n",
       "    </tr>\n",
       "    <tr>\n",
       "      <th>Ho</th>\n",
       "      <td>65.0</td>\n",
       "      <td>3.58</td>\n",
       "      <td>1745.15</td>\n",
       "      <td>0.165</td>\n",
       "      <td>164.930320</td>\n",
       "      <td>0.000011</td>\n",
       "    </tr>\n",
       "    <tr>\n",
       "      <th>Tm</th>\n",
       "      <td>74.0</td>\n",
       "      <td>3.54</td>\n",
       "      <td>1818.15</td>\n",
       "      <td>0.160</td>\n",
       "      <td>168.934210</td>\n",
       "      <td>0.000013</td>\n",
       "    </tr>\n",
       "    <tr>\n",
       "      <th>Nb</th>\n",
       "      <td>105.0</td>\n",
       "      <td>3.30</td>\n",
       "      <td>2750.15</td>\n",
       "      <td>0.265</td>\n",
       "      <td>92.906380</td>\n",
       "      <td>0.000007</td>\n",
       "    </tr>\n",
       "    <tr>\n",
       "      <th>V</th>\n",
       "      <td>128.0</td>\n",
       "      <td>3.02</td>\n",
       "      <td>2183.15</td>\n",
       "      <td>0.489</td>\n",
       "      <td>50.941500</td>\n",
       "      <td>0.000008</td>\n",
       "    </tr>\n",
       "    <tr>\n",
       "      <th>Ti</th>\n",
       "      <td>116.0</td>\n",
       "      <td>2.95</td>\n",
       "      <td>1943.15</td>\n",
       "      <td>0.523</td>\n",
       "      <td>47.867000</td>\n",
       "      <td>0.000009</td>\n",
       "    </tr>\n",
       "    <tr>\n",
       "      <th>Re</th>\n",
       "      <td>463.0</td>\n",
       "      <td>2.76</td>\n",
       "      <td>3458.15</td>\n",
       "      <td>0.137</td>\n",
       "      <td>186.207000</td>\n",
       "      <td>0.000006</td>\n",
       "    </tr>\n",
       "    <tr>\n",
       "      <th>Gd</th>\n",
       "      <td>55.0</td>\n",
       "      <td>3.64</td>\n",
       "      <td>1586.15</td>\n",
       "      <td>0.236</td>\n",
       "      <td>157.250000</td>\n",
       "      <td>0.000009</td>\n",
       "    </tr>\n",
       "    <tr>\n",
       "      <th>Tb</th>\n",
       "      <td>56.0</td>\n",
       "      <td>3.60</td>\n",
       "      <td>1632.15</td>\n",
       "      <td>0.182</td>\n",
       "      <td>158.925350</td>\n",
       "      <td>0.000010</td>\n",
       "    </tr>\n",
       "    <tr>\n",
       "      <th>Dy</th>\n",
       "      <td>61.0</td>\n",
       "      <td>3.59</td>\n",
       "      <td>1685.15</td>\n",
       "      <td>0.173</td>\n",
       "      <td>162.500000</td>\n",
       "      <td>0.000010</td>\n",
       "    </tr>\n",
       "    <tr>\n",
       "      <th>Hf</th>\n",
       "      <td>78.0</td>\n",
       "      <td>3.20</td>\n",
       "      <td>2506.15</td>\n",
       "      <td>0.144</td>\n",
       "      <td>178.490000</td>\n",
       "      <td>0.000006</td>\n",
       "    </tr>\n",
       "    <tr>\n",
       "      <th>Al</th>\n",
       "      <td>70.0</td>\n",
       "      <td>4.05</td>\n",
       "      <td>933.473</td>\n",
       "      <td>0.897</td>\n",
       "      <td>26.981539</td>\n",
       "      <td>0.000023</td>\n",
       "    </tr>\n",
       "    <tr>\n",
       "      <th>Ta</th>\n",
       "      <td>186.0</td>\n",
       "      <td>3.31</td>\n",
       "      <td>3290.15</td>\n",
       "      <td>0.140</td>\n",
       "      <td>180.947880</td>\n",
       "      <td>0.000006</td>\n",
       "    </tr>\n",
       "    <tr>\n",
       "      <th>Sm</th>\n",
       "      <td>50.0</td>\n",
       "      <td>9.00</td>\n",
       "      <td>1345.15</td>\n",
       "      <td>0.197</td>\n",
       "      <td>150.360000</td>\n",
       "      <td>0.000013</td>\n",
       "    </tr>\n",
       "    <tr>\n",
       "      <th>Er</th>\n",
       "      <td>70.0</td>\n",
       "      <td>3.56</td>\n",
       "      <td>1802.15</td>\n",
       "      <td>0.168</td>\n",
       "      <td>167.259000</td>\n",
       "      <td>0.000012</td>\n",
       "    </tr>\n",
       "    <tr>\n",
       "      <th>Ca</th>\n",
       "      <td>20.0</td>\n",
       "      <td>5.58</td>\n",
       "      <td>1115.15</td>\n",
       "      <td>0.647</td>\n",
       "      <td>40.078000</td>\n",
       "      <td>0.000022</td>\n",
       "    </tr>\n",
       "    <tr>\n",
       "      <th>Lu</th>\n",
       "      <td>69.0</td>\n",
       "      <td>3.51</td>\n",
       "      <td>1936.15</td>\n",
       "      <td>0.154</td>\n",
       "      <td>174.967000</td>\n",
       "      <td>0.000010</td>\n",
       "    </tr>\n",
       "    <tr>\n",
       "      <th>Sn</th>\n",
       "      <td>50.0</td>\n",
       "      <td>5.82</td>\n",
       "      <td>{'gray': 286.34999999999997, 'white': 505.078}</td>\n",
       "      <td>0.227</td>\n",
       "      <td>118.710000</td>\n",
       "      <td>0.000022</td>\n",
       "    </tr>\n",
       "    <tr>\n",
       "      <th>Cd</th>\n",
       "      <td>50.0</td>\n",
       "      <td>2.98</td>\n",
       "      <td>594.219</td>\n",
       "      <td>0.232</td>\n",
       "      <td>112.411000</td>\n",
       "      <td>0.000031</td>\n",
       "    </tr>\n",
       "    <tr>\n",
       "      <th>Bi</th>\n",
       "      <td>32.0</td>\n",
       "      <td>4.75</td>\n",
       "      <td>544.552</td>\n",
       "      <td>0.122</td>\n",
       "      <td>208.980400</td>\n",
       "      <td>0.000013</td>\n",
       "    </tr>\n",
       "    <tr>\n",
       "      <th>Ir</th>\n",
       "      <td>528.0</td>\n",
       "      <td>3.84</td>\n",
       "      <td>2719.15</td>\n",
       "      <td>0.131</td>\n",
       "      <td>192.217000</td>\n",
       "      <td>0.000006</td>\n",
       "    </tr>\n",
       "    <tr>\n",
       "      <th>Th</th>\n",
       "      <td>79.0</td>\n",
       "      <td>5.08</td>\n",
       "      <td>2023.15</td>\n",
       "      <td>0.118</td>\n",
       "      <td>232.038060</td>\n",
       "      <td>0.000011</td>\n",
       "    </tr>\n",
       "    <tr>\n",
       "      <th>Ba</th>\n",
       "      <td>13.0</td>\n",
       "      <td>5.02</td>\n",
       "      <td>1000.15</td>\n",
       "      <td>0.204</td>\n",
       "      <td>137.327000</td>\n",
       "      <td>0.000021</td>\n",
       "    </tr>\n",
       "    <tr>\n",
       "      <th>Au</th>\n",
       "      <td>78.0</td>\n",
       "      <td>4.08</td>\n",
       "      <td>1337.33</td>\n",
       "      <td>0.129</td>\n",
       "      <td>196.966569</td>\n",
       "      <td>0.000014</td>\n",
       "    </tr>\n",
       "    <tr>\n",
       "      <th>Be</th>\n",
       "      <td>287.0</td>\n",
       "      <td>2.29</td>\n",
       "      <td>1560.15</td>\n",
       "      <td>1.825</td>\n",
       "      <td>9.012182</td>\n",
       "      <td>0.000011</td>\n",
       "    </tr>\n",
       "    <tr>\n",
       "      <th>Cu</th>\n",
       "      <td>130.0</td>\n",
       "      <td>3.61</td>\n",
       "      <td>1357.77</td>\n",
       "      <td>0.385</td>\n",
       "      <td>63.546000</td>\n",
       "      <td>0.000017</td>\n",
       "    </tr>\n",
       "    <tr>\n",
       "      <th>Y</th>\n",
       "      <td>64.0</td>\n",
       "      <td>3.65</td>\n",
       "      <td>1795.15</td>\n",
       "      <td>0.298</td>\n",
       "      <td>88.905850</td>\n",
       "      <td>0.000011</td>\n",
       "    </tr>\n",
       "    <tr>\n",
       "      <th>Cr</th>\n",
       "      <td>279.0</td>\n",
       "      <td>2.88</td>\n",
       "      <td>2180.15</td>\n",
       "      <td>0.449</td>\n",
       "      <td>51.996100</td>\n",
       "      <td>0.000005</td>\n",
       "    </tr>\n",
       "    <tr>\n",
       "      <th>Mn</th>\n",
       "      <td>198.0</td>\n",
       "      <td>8.89</td>\n",
       "      <td>1519.15</td>\n",
       "      <td>0.479</td>\n",
       "      <td>54.938045</td>\n",
       "      <td>0.000022</td>\n",
       "    </tr>\n",
       "    <tr>\n",
       "      <th>Sb</th>\n",
       "      <td>55.0</td>\n",
       "      <td>4.51</td>\n",
       "      <td>903.778</td>\n",
       "      <td>0.207</td>\n",
       "      <td>121.760000</td>\n",
       "      <td>0.000011</td>\n",
       "    </tr>\n",
       "    <tr>\n",
       "      <th>Na</th>\n",
       "      <td>10.0</td>\n",
       "      <td>4.23</td>\n",
       "      <td>370.944</td>\n",
       "      <td>1.228</td>\n",
       "      <td>22.989769</td>\n",
       "      <td>0.000071</td>\n",
       "    </tr>\n",
       "  </tbody>\n",
       "</table>\n",
       "</div>"
      ],
      "text/plain": [
       "        E     a                                             Mpt      C  \\\n",
       "Zr   68.0  3.23                                         2127.15  0.278   \n",
       "Co  209.0  2.51                                         1768.15  0.421   \n",
       "Zn  108.0  2.66                                         692.677  0.388   \n",
       "Si   47.0  5.43                                         1687.15  0.712   \n",
       "Ag   83.0  4.09                                         1234.93  0.235   \n",
       "Ru  447.0  2.70                                         2606.15  0.238   \n",
       "Yb   24.0  5.49                                         1097.15  0.155   \n",
       "W   411.0  3.16                                         3687.15  0.132   \n",
       "Tl    8.0  3.46                                          577.15  0.129   \n",
       "Ni  200.0  3.52                                         1728.15  0.444   \n",
       "Sc   74.0  3.31                                         1814.15  0.568   \n",
       "Eu   18.0  4.61                                         1095.15  0.182   \n",
       "Li    4.9  3.49                                          453.65  3.582   \n",
       "Mg   45.0  3.21                                          923.15  1.023   \n",
       "Pt  168.0  3.92                                         2041.35  0.133   \n",
       "Ce   34.0  5.16                                         1072.15  0.192   \n",
       "Pb   16.0  4.95                                         600.612  0.130   \n",
       "Rh  275.0  3.80                                         2236.15  0.243   \n",
       "Pd  121.0  3.89                                         1827.95  0.246   \n",
       "Mo  329.0  3.15                                         2895.15  0.251   \n",
       "Fe  211.0  2.87                                         1811.15  0.449   \n",
       "Ho   65.0  3.58                                         1745.15  0.165   \n",
       "Tm   74.0  3.54                                         1818.15  0.160   \n",
       "Nb  105.0  3.30                                         2750.15  0.265   \n",
       "V   128.0  3.02                                         2183.15  0.489   \n",
       "Ti  116.0  2.95                                         1943.15  0.523   \n",
       "Re  463.0  2.76                                         3458.15  0.137   \n",
       "Gd   55.0  3.64                                         1586.15  0.236   \n",
       "Tb   56.0  3.60                                         1632.15  0.182   \n",
       "Dy   61.0  3.59                                         1685.15  0.173   \n",
       "Hf   78.0  3.20                                         2506.15  0.144   \n",
       "Al   70.0  4.05                                         933.473  0.897   \n",
       "Ta  186.0  3.31                                         3290.15  0.140   \n",
       "Sm   50.0  9.00                                         1345.15  0.197   \n",
       "Er   70.0  3.56                                         1802.15  0.168   \n",
       "Ca   20.0  5.58                                         1115.15  0.647   \n",
       "Lu   69.0  3.51                                         1936.15  0.154   \n",
       "Sn   50.0  5.82  {'gray': 286.34999999999997, 'white': 505.078}  0.227   \n",
       "Cd   50.0  2.98                                         594.219  0.232   \n",
       "Bi   32.0  4.75                                         544.552  0.122   \n",
       "Ir  528.0  3.84                                         2719.15  0.131   \n",
       "Th   79.0  5.08                                         2023.15  0.118   \n",
       "Ba   13.0  5.02                                         1000.15  0.204   \n",
       "Au   78.0  4.08                                         1337.33  0.129   \n",
       "Be  287.0  2.29                                         1560.15  1.825   \n",
       "Cu  130.0  3.61                                         1357.77  0.385   \n",
       "Y    64.0  3.65                                         1795.15  0.298   \n",
       "Cr  279.0  2.88                                         2180.15  0.449   \n",
       "Mn  198.0  8.89                                         1519.15  0.479   \n",
       "Sb   55.0  4.51                                         903.778  0.207   \n",
       "Na   10.0  4.23                                         370.944  1.228   \n",
       "\n",
       "             M     alpha  \n",
       "Zr   91.224000  0.000006  \n",
       "Co   58.933195  0.000013  \n",
       "Zn   65.409000  0.000030  \n",
       "Si   28.085500  0.000003  \n",
       "Ag  107.868200  0.000019  \n",
       "Ru  101.070000  0.000006  \n",
       "Yb  173.040000  0.000026  \n",
       "W   183.840000  0.000005  \n",
       "Tl  204.383300  0.000030  \n",
       "Ni   58.693400  0.000013  \n",
       "Sc   44.955912  0.000010  \n",
       "Eu  151.964000  0.000035  \n",
       "Li    6.941000  0.000046  \n",
       "Mg   24.305000  0.000008  \n",
       "Pt  195.084000  0.000009  \n",
       "Ce  140.116000  0.000006  \n",
       "Pb  207.200000  0.000029  \n",
       "Rh  102.905500  0.000008  \n",
       "Pd  106.420000  0.000012  \n",
       "Mo   95.940000  0.000005  \n",
       "Fe   55.845000  0.000012  \n",
       "Ho  164.930320  0.000011  \n",
       "Tm  168.934210  0.000013  \n",
       "Nb   92.906380  0.000007  \n",
       "V    50.941500  0.000008  \n",
       "Ti   47.867000  0.000009  \n",
       "Re  186.207000  0.000006  \n",
       "Gd  157.250000  0.000009  \n",
       "Tb  158.925350  0.000010  \n",
       "Dy  162.500000  0.000010  \n",
       "Hf  178.490000  0.000006  \n",
       "Al   26.981539  0.000023  \n",
       "Ta  180.947880  0.000006  \n",
       "Sm  150.360000  0.000013  \n",
       "Er  167.259000  0.000012  \n",
       "Ca   40.078000  0.000022  \n",
       "Lu  174.967000  0.000010  \n",
       "Sn  118.710000  0.000022  \n",
       "Cd  112.411000  0.000031  \n",
       "Bi  208.980400  0.000013  \n",
       "Ir  192.217000  0.000006  \n",
       "Th  232.038060  0.000011  \n",
       "Ba  137.327000  0.000021  \n",
       "Au  196.966569  0.000014  \n",
       "Be    9.012182  0.000011  \n",
       "Cu   63.546000  0.000017  \n",
       "Y    88.905850  0.000011  \n",
       "Cr   51.996100  0.000005  \n",
       "Mn   54.938045  0.000022  \n",
       "Sb  121.760000  0.000011  \n",
       "Na   22.989769  0.000071  "
      ]
     },
     "execution_count": 2,
     "metadata": {},
     "output_type": "execute_result"
    }
   ],
   "source": [
    "import pandas as pd\n",
    "df = pd.DataFrame(zip(\n",
    "    data_youngs_modulus,\n",
    "    data_lattice_constant,\n",
    "    data_melting_point,\n",
    "    data_specific_heat,\n",
    "    data_atomic_mass,\n",
    "    data_CTE),\n",
    "columns=['E','a','Mpt','C','M','alpha'])   \n",
    "df.index = elements\n",
    "df"
   ]
  },
  {
   "cell_type": "code",
   "execution_count": 3,
   "id": "16089fa0-39b9-4f30-a533-e8a127c06a68",
   "metadata": {},
   "outputs": [],
   "source": [
    "data=df.drop(['Sn'])"
   ]
  },
  {
   "cell_type": "code",
   "execution_count": 4,
   "id": "e4d81035-0e70-4356-a31a-b7322c1d0bc1",
   "metadata": {},
   "outputs": [],
   "source": [
    "#print(data_youngs_modulus)\n",
    "#print(data_lattice_constant)\n",
    "#print(data_melting_point)\n",
    "#print(data_specific_heat)\n",
    "#print(data_atomic_mass)\n",
    "#print(data_CTE)"
   ]
  },
  {
   "cell_type": "code",
   "execution_count": 5,
   "id": "6c38f799-2be7-4585-a911-3cfb3ef251c1",
   "metadata": {},
   "outputs": [],
   "source": [
    "# Here we will organize the data in a format sk-learn accepts\n",
    "# We will develop linear models that relate Young's modulus and melting temperature, CTE vs. melting temperature \n",
    "# and lattice constant and melting temperature\n",
    "\n",
    "df_train = data[:44] # This takes the first 44 entries to be the Training Set\n",
    "df_test = data[-6:] # This takes the last 6 entries to be the Testing Set\n",
    "\n",
    "# These would be the sets for Melting Point\n",
    "\n",
    "melt_train = df_train['Mpt'].to_numpy() \n",
    "melt_test = df_test['Mpt'].to_numpy() \n",
    "# This Reshape function in the next two lines, turns each of the horizontal lists [ x, y, z] into a\n",
    "# vertical NumPy array [[x]\n",
    "#                       [y]\n",
    "#                       [z]]\n",
    "# This Step is required to work with the Sklearn Linear Model\n",
    "\n",
    "melt_train = melt_train.reshape(-1,1) \n",
    "melt_test = melt_test.reshape(-1,1)\n",
    "\n",
    "#Each data set will be divided in training and test data\n",
    "# These would be the sets for Young's Modulus\n",
    "\n",
    "young_train = df_train['E'].to_numpy() \n",
    "young_test = df_test['E'].to_numpy() \n",
    "young_train = young_train.reshape(-1,1)\n",
    "young_test = young_test.reshape(-1,1)\n",
    "\n",
    "# These would be the sets for Lattice Constants\n",
    "\n",
    "#lattice_train = data_lattice_constant[:45]\n",
    "#lattice_test = data_lattice_constant[-6:]\n",
    "#lattice_train = np.array(lattice_train).reshape(-1,1)\n",
    "#lattice_test = np.array(lattice_test).reshape(-1,1)\n",
    "\n",
    "# These would be the sets for Specific Heat\n",
    "\n",
    "#specheat_train = data_specific_heat[:45]\n",
    "#specheat_test = data_specific_heat[-6:]\n",
    "#specheat_train = np.array(specheat_train).reshape(-1,1)\n",
    "#specheat_test = np.array(specheat_test).reshape(-1,1)\n",
    "\n",
    "# These would be the sets for Atomic Mass\n",
    "\n",
    "#mass_train = data_atomic_mass[:45]\n",
    "#mass_test = data_atomic_mass[-6:]\n",
    "#mass_train = np.array(mass_train).reshape(-1,1)\n",
    "#mass_test = np.array(mass_test).reshape(-1,1)\n",
    "\n",
    "# These would be the sets for CTE\n",
    "\n",
    "#coefTE_train = data_CTE[:45]\n",
    "#coefTE_test = data_CTE[-6:]\n",
    "#coefTE_train = np.array(coefTE_train).reshape(-1,1)\n",
    "#coefTE_test = np.array(coefTE_test).reshape(-1,1)\n"
   ]
  },
  {
   "cell_type": "code",
   "execution_count": 6,
   "id": "490f5a04-901c-4e76-82c5-dd3bbf82afd0",
   "metadata": {},
   "outputs": [],
   "source": [
    "def regression(x_train, x_test, y_train, y_test):\n",
    "    \n",
    "    # Define the model and train it\n",
    "    model = linear_model.LinearRegression()\n",
    "    model.fit(x_train, y_train)\n",
    "    \n",
    "    #Join train + test data \n",
    "    full_x = np.concatenate((x_train, x_test), axis=0)\n",
    "    full_y = np.concatenate((y_train, y_test), axis=0)\n",
    "    \n",
    "    # Use the model to predict the entire set of data\n",
    "    predictions = model.predict(full_x) # Make it for all values\n",
    "    \n",
    "    # Print model and mean squared error and variance score\n",
    "    print(\"Linear Equation: %.4e X + (%.4e)\"%(model.coef_, model.intercept_))\n",
    "    print(\"Mean squared error: %.4e\" % (mean_squared_error(full_y, predictions)))\n",
    "    print('Variance score: %.4f' % r2_score(full_y, predictions))    \n",
    "    \n",
    "    return predictions"
   ]
  },
  {
   "cell_type": "code",
   "execution_count": 7,
   "id": "7549dd75-ec59-4fe7-8681-cc61717f4583",
   "metadata": {},
   "outputs": [
    {
     "data": {
      "text/html": [
       "        <script type=\"text/javascript\">\n",
       "        window.PlotlyConfig = {MathJaxConfig: 'local'};\n",
       "        if (window.MathJax && window.MathJax.Hub && window.MathJax.Hub.Config) {window.MathJax.Hub.Config({SVG: {font: \"STIX-Web\"}});}\n",
       "        if (typeof require !== 'undefined') {\n",
       "        require.undef(\"plotly\");\n",
       "        requirejs.config({\n",
       "            paths: {\n",
       "                'plotly': ['https://cdn.plot.ly/plotly-2.27.0.min']\n",
       "            }\n",
       "        });\n",
       "        require(['plotly'], function(Plotly) {\n",
       "            window._Plotly = Plotly;\n",
       "        });\n",
       "        }\n",
       "        </script>\n",
       "        "
      ]
     },
     "metadata": {},
     "output_type": "display_data"
    }
   ],
   "source": [
    "import plotly #This is the library import\n",
    "import plotly.graph_objs as go # This is the graphical object (Think \"plt\" in Matplotlib if you have used that before)\n",
    "from plotly.offline import iplot # These lines are necessary to run Plotly in Jupyter Notebooks, but not in a dedicated environment\n",
    "\n",
    "plotly.offline.init_notebook_mode(connected=True)\n",
    "\n",
    "def plot(x_train, x_test, y_train, y_test, x_label, y_label, predictions):\n",
    "    \n",
    "    # The reshape functions in the next two lines, turns each of the\n",
    "    # vertical NumPy array [[x]\n",
    "    #                       [y]\n",
    "    #                       [z]]\n",
    "    # into python lists [ x, y, z]\n",
    "    \n",
    "    # This step is required to create plots with plotly like we did in the previous tutorial\n",
    "    \n",
    "    x_train = x_train.reshape(1,-1).tolist()[0]\n",
    "    x_test = x_test.reshape(1,-1).tolist()[0]\n",
    "    y_train = y_train.reshape(1,-1).tolist()[0]\n",
    "    y_test = y_test.reshape(1,-1).tolist()[0]    \n",
    "    predictions = predictions.reshape(1,-1).tolist()[0]\n",
    "    full_x_list = x_train + x_test\n",
    "\n",
    "    \n",
    "    # Now we get back to what we know. Remember, to plot in Plotly, we need a layout and at least one trace\n",
    "    \n",
    "    layout0= go.Layout(hovermode= 'closest', width = 800, height=600, showlegend=True,  # Hovermode establishes the way the labels that appear when you hover are arranged # Establishing a square plot width=height\n",
    "    xaxis= dict(title=go.layout.xaxis.Title(text=x_label, font=dict(size=24)), zeroline= False, gridwidth= 1, tickfont=dict(size=18)), # Axis Titles. Removing the X-axis Mark. Adding a Grid\n",
    "    yaxis= dict(title=go.layout.yaxis.Title(text=y_label, font=dict(size=24)), zeroline= False, gridwidth= 1, tickfont=dict(size=18)), # Axis Titles. Removing the Y-axis Mark. Adding a Grid\n",
    "    legend=dict(font=dict(size=24))) # Adding a legend\n",
    "    \n",
    "\n",
    "    training = go.Scatter(x = x_train, y = y_train, mode = 'markers', \n",
    "                          marker= dict(size= 10, color= 'green'), name= \"Training Data\") \n",
    "    # This trace contains the values for the data in the training set\n",
    "    \n",
    "    actual = go.Scatter(x = x_test, y = y_test, mode = 'markers', \n",
    "                        marker= dict(size= 10, color= 'red'), name= \"Testing Data\") \n",
    "    # This trace contains the values for the data in the testing set\n",
    "\n",
    "    prediction = go.Scatter(x = full_x_list, y = predictions, mode = 'lines', \n",
    "                            line = dict(color = \"blue\", width = 1.5),name= \"Model\") \n",
    "    # This trace will be the line the model fitted the data to\n",
    "\n",
    "    data = [training, actual, prediction]\n",
    "    fig= go.Figure(data, layout=layout0)\n",
    "    iplot(fig)"
   ]
  },
  {
   "cell_type": "code",
   "execution_count": 8,
   "id": "b54be539-b56c-46da-866f-3e2ef708c85f",
   "metadata": {},
   "outputs": [
    {
     "name": "stderr",
     "output_type": "stream",
     "text": [
      "C:\\Users\\ajitp\\AppData\\Local\\Temp\\ipykernel_26184\\2300985368.py:15: DeprecationWarning:\n",
      "\n",
      "Conversion of an array with ndim > 0 to a scalar is deprecated, and will error in future. Ensure you extract a single element from your array before performing this operation. (Deprecated NumPy 1.25.)\n",
      "\n"
     ]
    },
    {
     "name": "stdout",
     "output_type": "stream",
     "text": [
      "Linear Equation: 1.2142e-01 X + (-8.0255e+01)\n",
      "Mean squared error: 7.5623e+03\n",
      "Variance score: 0.5266\n"
     ]
    },
    {
     "data": {
      "application/vnd.plotly.v1+json": {
       "config": {
        "linkText": "Export to plot.ly",
        "plotlyServerURL": "https://plot.ly",
        "showLink": false
       },
       "data": [
        {
         "marker": {
          "color": "green",
          "size": 10
         },
         "mode": "markers",
         "name": "Training Data",
         "type": "scatter",
         "x": [
          2127.15,
          1768.15,
          692.6769999999999,
          1687.15,
          1234.9299999999998,
          2606.15,
          1097.15,
          3687.15,
          577.15,
          1728.15,
          1814.15,
          1095.15,
          453.65,
          923.15,
          2041.35,
          1072.15,
          600.612,
          2236.15,
          1827.9499999999998,
          2895.15,
          1811.15,
          1745.15,
          1818.15,
          2750.15,
          2183.15,
          1943.15,
          3458.15,
          1586.15,
          1632.15,
          1685.15,
          2506.15,
          933.473,
          3290.15,
          1345.15,
          1802.15,
          1115.15,
          1936.15,
          594.219,
          544.5519999999999,
          2719.15,
          2023.15,
          1000.15,
          1337.33,
          1560.15
         ],
         "y": [
          68,
          209,
          108,
          47,
          83,
          447,
          24,
          411,
          8,
          200,
          74,
          18,
          4.9,
          45,
          168,
          34,
          16,
          275,
          121,
          329,
          211,
          65,
          74,
          105,
          128,
          116,
          463,
          55,
          56,
          61,
          78,
          70,
          186,
          50,
          70,
          20,
          69,
          50,
          32,
          528,
          79,
          13,
          78,
          287
         ]
        },
        {
         "marker": {
          "color": "red",
          "size": 10
         },
         "mode": "markers",
         "name": "Testing Data",
         "type": "scatter",
         "x": [
          1357.77,
          1795.15,
          2180.15,
          1519.15,
          903.778,
          370.94399999999996
         ],
         "y": [
          130,
          64,
          279,
          198,
          55,
          10
         ]
        },
        {
         "line": {
          "color": "blue",
          "width": 1.5
         },
         "mode": "lines",
         "name": "Model",
         "type": "scatter",
         "x": [
          2127.15,
          1768.15,
          692.6769999999999,
          1687.15,
          1234.9299999999998,
          2606.15,
          1097.15,
          3687.15,
          577.15,
          1728.15,
          1814.15,
          1095.15,
          453.65,
          923.15,
          2041.35,
          1072.15,
          600.612,
          2236.15,
          1827.9499999999998,
          2895.15,
          1811.15,
          1745.15,
          1818.15,
          2750.15,
          2183.15,
          1943.15,
          3458.15,
          1586.15,
          1632.15,
          1685.15,
          2506.15,
          933.473,
          3290.15,
          1345.15,
          1802.15,
          1115.15,
          1936.15,
          594.219,
          544.5519999999999,
          2719.15,
          2023.15,
          1000.15,
          1337.33,
          1560.15,
          1357.77,
          1795.15,
          2180.15,
          1519.15,
          903.778,
          370.94399999999996
         ],
         "y": [
          178.0166077036214,
          134.42793695081104,
          3.847328314217137,
          124.59316722663934,
          69.68601210731927,
          236.17530767742682,
          52.95719022341342,
          367.4269875765577,
          -10.179603067565353,
          129.57126054381266,
          140.01311481885915,
          52.714356403063505,
          -25.174591474172814,
          31.830647852970515,
          167.59903681060985,
          49.92176746903945,
          -7.330919521040471,
          191.25105091269194,
          141.68866817927355,
          271.26479471799,
          139.64886408833428,
          131.63534801678696,
          140.49878245955898,
          253.65934274262094,
          184.81595467341907,
          155.67589623142888,
          339.62251514649205,
          112.33005929896845,
          117.91523716701658,
          124.35033340628942,
          224.03361665993089,
          33.08403461670662,
          319.2244742370989,
          83.0685839468033,
          138.55611189675966,
          55.142694606562685,
          154.82597786020418,
          -8.107137827788975,
          -14.137551505448684,
          249.8954185271972,
          165.38924904542563,
          41.17974993644238,
          82.1191037092351,
          109.17321963441952,
          84.60086535321128,
          137.70619352553493,
          184.4517039428942,
          104.1951263172462,
          29.47855946906121,
          -35.21649844710299
         ]
        }
       ],
       "layout": {
        "height": 600,
        "hovermode": "closest",
        "legend": {
         "font": {
          "size": 24
         }
        },
        "showlegend": true,
        "template": {
         "data": {
          "bar": [
           {
            "error_x": {
             "color": "#2a3f5f"
            },
            "error_y": {
             "color": "#2a3f5f"
            },
            "marker": {
             "line": {
              "color": "#E5ECF6",
              "width": 0.5
             },
             "pattern": {
              "fillmode": "overlay",
              "size": 10,
              "solidity": 0.2
             }
            },
            "type": "bar"
           }
          ],
          "barpolar": [
           {
            "marker": {
             "line": {
              "color": "#E5ECF6",
              "width": 0.5
             },
             "pattern": {
              "fillmode": "overlay",
              "size": 10,
              "solidity": 0.2
             }
            },
            "type": "barpolar"
           }
          ],
          "carpet": [
           {
            "aaxis": {
             "endlinecolor": "#2a3f5f",
             "gridcolor": "white",
             "linecolor": "white",
             "minorgridcolor": "white",
             "startlinecolor": "#2a3f5f"
            },
            "baxis": {
             "endlinecolor": "#2a3f5f",
             "gridcolor": "white",
             "linecolor": "white",
             "minorgridcolor": "white",
             "startlinecolor": "#2a3f5f"
            },
            "type": "carpet"
           }
          ],
          "choropleth": [
           {
            "colorbar": {
             "outlinewidth": 0,
             "ticks": ""
            },
            "type": "choropleth"
           }
          ],
          "contour": [
           {
            "colorbar": {
             "outlinewidth": 0,
             "ticks": ""
            },
            "colorscale": [
             [
              0,
              "#0d0887"
             ],
             [
              0.1111111111111111,
              "#46039f"
             ],
             [
              0.2222222222222222,
              "#7201a8"
             ],
             [
              0.3333333333333333,
              "#9c179e"
             ],
             [
              0.4444444444444444,
              "#bd3786"
             ],
             [
              0.5555555555555556,
              "#d8576b"
             ],
             [
              0.6666666666666666,
              "#ed7953"
             ],
             [
              0.7777777777777778,
              "#fb9f3a"
             ],
             [
              0.8888888888888888,
              "#fdca26"
             ],
             [
              1,
              "#f0f921"
             ]
            ],
            "type": "contour"
           }
          ],
          "contourcarpet": [
           {
            "colorbar": {
             "outlinewidth": 0,
             "ticks": ""
            },
            "type": "contourcarpet"
           }
          ],
          "heatmap": [
           {
            "colorbar": {
             "outlinewidth": 0,
             "ticks": ""
            },
            "colorscale": [
             [
              0,
              "#0d0887"
             ],
             [
              0.1111111111111111,
              "#46039f"
             ],
             [
              0.2222222222222222,
              "#7201a8"
             ],
             [
              0.3333333333333333,
              "#9c179e"
             ],
             [
              0.4444444444444444,
              "#bd3786"
             ],
             [
              0.5555555555555556,
              "#d8576b"
             ],
             [
              0.6666666666666666,
              "#ed7953"
             ],
             [
              0.7777777777777778,
              "#fb9f3a"
             ],
             [
              0.8888888888888888,
              "#fdca26"
             ],
             [
              1,
              "#f0f921"
             ]
            ],
            "type": "heatmap"
           }
          ],
          "heatmapgl": [
           {
            "colorbar": {
             "outlinewidth": 0,
             "ticks": ""
            },
            "colorscale": [
             [
              0,
              "#0d0887"
             ],
             [
              0.1111111111111111,
              "#46039f"
             ],
             [
              0.2222222222222222,
              "#7201a8"
             ],
             [
              0.3333333333333333,
              "#9c179e"
             ],
             [
              0.4444444444444444,
              "#bd3786"
             ],
             [
              0.5555555555555556,
              "#d8576b"
             ],
             [
              0.6666666666666666,
              "#ed7953"
             ],
             [
              0.7777777777777778,
              "#fb9f3a"
             ],
             [
              0.8888888888888888,
              "#fdca26"
             ],
             [
              1,
              "#f0f921"
             ]
            ],
            "type": "heatmapgl"
           }
          ],
          "histogram": [
           {
            "marker": {
             "pattern": {
              "fillmode": "overlay",
              "size": 10,
              "solidity": 0.2
             }
            },
            "type": "histogram"
           }
          ],
          "histogram2d": [
           {
            "colorbar": {
             "outlinewidth": 0,
             "ticks": ""
            },
            "colorscale": [
             [
              0,
              "#0d0887"
             ],
             [
              0.1111111111111111,
              "#46039f"
             ],
             [
              0.2222222222222222,
              "#7201a8"
             ],
             [
              0.3333333333333333,
              "#9c179e"
             ],
             [
              0.4444444444444444,
              "#bd3786"
             ],
             [
              0.5555555555555556,
              "#d8576b"
             ],
             [
              0.6666666666666666,
              "#ed7953"
             ],
             [
              0.7777777777777778,
              "#fb9f3a"
             ],
             [
              0.8888888888888888,
              "#fdca26"
             ],
             [
              1,
              "#f0f921"
             ]
            ],
            "type": "histogram2d"
           }
          ],
          "histogram2dcontour": [
           {
            "colorbar": {
             "outlinewidth": 0,
             "ticks": ""
            },
            "colorscale": [
             [
              0,
              "#0d0887"
             ],
             [
              0.1111111111111111,
              "#46039f"
             ],
             [
              0.2222222222222222,
              "#7201a8"
             ],
             [
              0.3333333333333333,
              "#9c179e"
             ],
             [
              0.4444444444444444,
              "#bd3786"
             ],
             [
              0.5555555555555556,
              "#d8576b"
             ],
             [
              0.6666666666666666,
              "#ed7953"
             ],
             [
              0.7777777777777778,
              "#fb9f3a"
             ],
             [
              0.8888888888888888,
              "#fdca26"
             ],
             [
              1,
              "#f0f921"
             ]
            ],
            "type": "histogram2dcontour"
           }
          ],
          "mesh3d": [
           {
            "colorbar": {
             "outlinewidth": 0,
             "ticks": ""
            },
            "type": "mesh3d"
           }
          ],
          "parcoords": [
           {
            "line": {
             "colorbar": {
              "outlinewidth": 0,
              "ticks": ""
             }
            },
            "type": "parcoords"
           }
          ],
          "pie": [
           {
            "automargin": true,
            "type": "pie"
           }
          ],
          "scatter": [
           {
            "fillpattern": {
             "fillmode": "overlay",
             "size": 10,
             "solidity": 0.2
            },
            "type": "scatter"
           }
          ],
          "scatter3d": [
           {
            "line": {
             "colorbar": {
              "outlinewidth": 0,
              "ticks": ""
             }
            },
            "marker": {
             "colorbar": {
              "outlinewidth": 0,
              "ticks": ""
             }
            },
            "type": "scatter3d"
           }
          ],
          "scattercarpet": [
           {
            "marker": {
             "colorbar": {
              "outlinewidth": 0,
              "ticks": ""
             }
            },
            "type": "scattercarpet"
           }
          ],
          "scattergeo": [
           {
            "marker": {
             "colorbar": {
              "outlinewidth": 0,
              "ticks": ""
             }
            },
            "type": "scattergeo"
           }
          ],
          "scattergl": [
           {
            "marker": {
             "colorbar": {
              "outlinewidth": 0,
              "ticks": ""
             }
            },
            "type": "scattergl"
           }
          ],
          "scattermapbox": [
           {
            "marker": {
             "colorbar": {
              "outlinewidth": 0,
              "ticks": ""
             }
            },
            "type": "scattermapbox"
           }
          ],
          "scatterpolar": [
           {
            "marker": {
             "colorbar": {
              "outlinewidth": 0,
              "ticks": ""
             }
            },
            "type": "scatterpolar"
           }
          ],
          "scatterpolargl": [
           {
            "marker": {
             "colorbar": {
              "outlinewidth": 0,
              "ticks": ""
             }
            },
            "type": "scatterpolargl"
           }
          ],
          "scatterternary": [
           {
            "marker": {
             "colorbar": {
              "outlinewidth": 0,
              "ticks": ""
             }
            },
            "type": "scatterternary"
           }
          ],
          "surface": [
           {
            "colorbar": {
             "outlinewidth": 0,
             "ticks": ""
            },
            "colorscale": [
             [
              0,
              "#0d0887"
             ],
             [
              0.1111111111111111,
              "#46039f"
             ],
             [
              0.2222222222222222,
              "#7201a8"
             ],
             [
              0.3333333333333333,
              "#9c179e"
             ],
             [
              0.4444444444444444,
              "#bd3786"
             ],
             [
              0.5555555555555556,
              "#d8576b"
             ],
             [
              0.6666666666666666,
              "#ed7953"
             ],
             [
              0.7777777777777778,
              "#fb9f3a"
             ],
             [
              0.8888888888888888,
              "#fdca26"
             ],
             [
              1,
              "#f0f921"
             ]
            ],
            "type": "surface"
           }
          ],
          "table": [
           {
            "cells": {
             "fill": {
              "color": "#EBF0F8"
             },
             "line": {
              "color": "white"
             }
            },
            "header": {
             "fill": {
              "color": "#C8D4E3"
             },
             "line": {
              "color": "white"
             }
            },
            "type": "table"
           }
          ]
         },
         "layout": {
          "annotationdefaults": {
           "arrowcolor": "#2a3f5f",
           "arrowhead": 0,
           "arrowwidth": 1
          },
          "autotypenumbers": "strict",
          "coloraxis": {
           "colorbar": {
            "outlinewidth": 0,
            "ticks": ""
           }
          },
          "colorscale": {
           "diverging": [
            [
             0,
             "#8e0152"
            ],
            [
             0.1,
             "#c51b7d"
            ],
            [
             0.2,
             "#de77ae"
            ],
            [
             0.3,
             "#f1b6da"
            ],
            [
             0.4,
             "#fde0ef"
            ],
            [
             0.5,
             "#f7f7f7"
            ],
            [
             0.6,
             "#e6f5d0"
            ],
            [
             0.7,
             "#b8e186"
            ],
            [
             0.8,
             "#7fbc41"
            ],
            [
             0.9,
             "#4d9221"
            ],
            [
             1,
             "#276419"
            ]
           ],
           "sequential": [
            [
             0,
             "#0d0887"
            ],
            [
             0.1111111111111111,
             "#46039f"
            ],
            [
             0.2222222222222222,
             "#7201a8"
            ],
            [
             0.3333333333333333,
             "#9c179e"
            ],
            [
             0.4444444444444444,
             "#bd3786"
            ],
            [
             0.5555555555555556,
             "#d8576b"
            ],
            [
             0.6666666666666666,
             "#ed7953"
            ],
            [
             0.7777777777777778,
             "#fb9f3a"
            ],
            [
             0.8888888888888888,
             "#fdca26"
            ],
            [
             1,
             "#f0f921"
            ]
           ],
           "sequentialminus": [
            [
             0,
             "#0d0887"
            ],
            [
             0.1111111111111111,
             "#46039f"
            ],
            [
             0.2222222222222222,
             "#7201a8"
            ],
            [
             0.3333333333333333,
             "#9c179e"
            ],
            [
             0.4444444444444444,
             "#bd3786"
            ],
            [
             0.5555555555555556,
             "#d8576b"
            ],
            [
             0.6666666666666666,
             "#ed7953"
            ],
            [
             0.7777777777777778,
             "#fb9f3a"
            ],
            [
             0.8888888888888888,
             "#fdca26"
            ],
            [
             1,
             "#f0f921"
            ]
           ]
          },
          "colorway": [
           "#636efa",
           "#EF553B",
           "#00cc96",
           "#ab63fa",
           "#FFA15A",
           "#19d3f3",
           "#FF6692",
           "#B6E880",
           "#FF97FF",
           "#FECB52"
          ],
          "font": {
           "color": "#2a3f5f"
          },
          "geo": {
           "bgcolor": "white",
           "lakecolor": "white",
           "landcolor": "#E5ECF6",
           "showlakes": true,
           "showland": true,
           "subunitcolor": "white"
          },
          "hoverlabel": {
           "align": "left"
          },
          "hovermode": "closest",
          "mapbox": {
           "style": "light"
          },
          "paper_bgcolor": "white",
          "plot_bgcolor": "#E5ECF6",
          "polar": {
           "angularaxis": {
            "gridcolor": "white",
            "linecolor": "white",
            "ticks": ""
           },
           "bgcolor": "#E5ECF6",
           "radialaxis": {
            "gridcolor": "white",
            "linecolor": "white",
            "ticks": ""
           }
          },
          "scene": {
           "xaxis": {
            "backgroundcolor": "#E5ECF6",
            "gridcolor": "white",
            "gridwidth": 2,
            "linecolor": "white",
            "showbackground": true,
            "ticks": "",
            "zerolinecolor": "white"
           },
           "yaxis": {
            "backgroundcolor": "#E5ECF6",
            "gridcolor": "white",
            "gridwidth": 2,
            "linecolor": "white",
            "showbackground": true,
            "ticks": "",
            "zerolinecolor": "white"
           },
           "zaxis": {
            "backgroundcolor": "#E5ECF6",
            "gridcolor": "white",
            "gridwidth": 2,
            "linecolor": "white",
            "showbackground": true,
            "ticks": "",
            "zerolinecolor": "white"
           }
          },
          "shapedefaults": {
           "line": {
            "color": "#2a3f5f"
           }
          },
          "ternary": {
           "aaxis": {
            "gridcolor": "white",
            "linecolor": "white",
            "ticks": ""
           },
           "baxis": {
            "gridcolor": "white",
            "linecolor": "white",
            "ticks": ""
           },
           "bgcolor": "#E5ECF6",
           "caxis": {
            "gridcolor": "white",
            "linecolor": "white",
            "ticks": ""
           }
          },
          "title": {
           "x": 0.05
          },
          "xaxis": {
           "automargin": true,
           "gridcolor": "white",
           "linecolor": "white",
           "ticks": "",
           "title": {
            "standoff": 15
           },
           "zerolinecolor": "white",
           "zerolinewidth": 2
          },
          "yaxis": {
           "automargin": true,
           "gridcolor": "white",
           "linecolor": "white",
           "ticks": "",
           "title": {
            "standoff": 15
           },
           "zerolinecolor": "white",
           "zerolinewidth": 2
          }
         }
        },
        "width": 800,
        "xaxis": {
         "autorange": true,
         "gridwidth": 1,
         "range": [
          133.07920074522585,
          3925.014799254774
         ],
         "tickfont": {
          "size": 18
         },
         "title": {
          "font": {
           "size": 24
          },
          "text": "Melting Temperature (K)"
         },
         "type": "linear",
         "zeroline": false
        },
        "yaxis": {
         "autorange": true,
         "gridwidth": 1,
         "range": [
          -67.0323598254195,
          569.2848677409107
         ],
         "tickfont": {
          "size": 18
         },
         "title": {
          "font": {
           "size": 24
          },
          "text": "Young's Modulus (GPa)"
         },
         "type": "linear",
         "zeroline": false
        }
       }
      },
      "image/png": "[encoded data removed]",
      "text/html": [
       "<div>                            <div id=\"21508e3f-eea0-45cd-90d1-e02717f93894\" class=\"plotly-graph-div\" style=\"height:600px; width:800px;\"></div>            <script type=\"text/javascript\">                require([\"plotly\"], function(Plotly) {                    window.PLOTLYENV=window.PLOTLYENV || {};                                    if (document.getElementById(\"21508e3f-eea0-45cd-90d1-e02717f93894\")) {                    Plotly.newPlot(                        \"21508e3f-eea0-45cd-90d1-e02717f93894\",                        [{\"marker\":{\"color\":\"green\",\"size\":10},\"mode\":\"markers\",\"name\":\"Training Data\",\"x\":[2127.15,1768.15,692.6769999999999,1687.15,1234.9299999999998,2606.15,1097.15,3687.15,577.15,1728.15,1814.15,1095.15,453.65,923.15,2041.35,1072.15,600.612,2236.15,1827.9499999999998,2895.15,1811.15,1745.15,1818.15,2750.15,2183.15,1943.15,3458.15,1586.15,1632.15,1685.15,2506.15,933.473,3290.15,1345.15,1802.15,1115.15,1936.15,594.219,544.5519999999999,2719.15,2023.15,1000.15,1337.33,1560.15],\"y\":[68.0,209.0,108.0,47.0,83.0,447.0,24.0,411.0,8.0,200.0,74.0,18.0,4.9,45.0,168.0,34.0,16.0,275.0,121.0,329.0,211.0,65.0,74.0,105.0,128.0,116.0,463.0,55.0,56.0,61.0,78.0,70.0,186.0,50.0,70.0,20.0,69.0,50.0,32.0,528.0,79.0,13.0,78.0,287.0],\"type\":\"scatter\"},{\"marker\":{\"color\":\"red\",\"size\":10},\"mode\":\"markers\",\"name\":\"Testing Data\",\"x\":[1357.77,1795.15,2180.15,1519.15,903.778,370.94399999999996],\"y\":[130.0,64.0,279.0,198.0,55.0,10.0],\"type\":\"scatter\"},{\"line\":{\"color\":\"blue\",\"width\":1.5},\"mode\":\"lines\",\"name\":\"Model\",\"x\":[2127.15,1768.15,692.6769999999999,1687.15,1234.9299999999998,2606.15,1097.15,3687.15,577.15,1728.15,1814.15,1095.15,453.65,923.15,2041.35,1072.15,600.612,2236.15,1827.9499999999998,2895.15,1811.15,1745.15,1818.15,2750.15,2183.15,1943.15,3458.15,1586.15,1632.15,1685.15,2506.15,933.473,3290.15,1345.15,1802.15,1115.15,1936.15,594.219,544.5519999999999,2719.15,2023.15,1000.15,1337.33,1560.15,1357.77,1795.15,2180.15,1519.15,903.778,370.94399999999996],\"y\":[178.0166077036214,134.42793695081104,3.847328314217137,124.59316722663934,69.68601210731927,236.17530767742682,52.95719022341342,367.4269875765577,-10.179603067565353,129.57126054381266,140.01311481885915,52.714356403063505,-25.174591474172814,31.830647852970515,167.59903681060985,49.92176746903945,-7.330919521040471,191.25105091269194,141.68866817927355,271.26479471799,139.64886408833428,131.63534801678696,140.49878245955898,253.65934274262094,184.81595467341907,155.67589623142888,339.62251514649205,112.33005929896845,117.91523716701658,124.35033340628942,224.03361665993089,33.08403461670662,319.2244742370989,83.0685839468033,138.55611189675966,55.142694606562685,154.82597786020418,-8.107137827788975,-14.137551505448684,249.8954185271972,165.38924904542563,41.17974993644238,82.1191037092351,109.17321963441952,84.60086535321128,137.70619352553493,184.4517039428942,104.1951263172462,29.47855946906121,-35.21649844710299],\"type\":\"scatter\"}],                        {\"height\":600,\"hovermode\":\"closest\",\"legend\":{\"font\":{\"size\":24}},\"showlegend\":true,\"template\":{\"data\":{\"barpolar\":[{\"marker\":{\"line\":{\"color\":\"#E5ECF6\",\"width\":0.5},\"pattern\":{\"fillmode\":\"overlay\",\"size\":10,\"solidity\":0.2}},\"type\":\"barpolar\"}],\"bar\":[{\"error_x\":{\"color\":\"#2a3f5f\"},\"error_y\":{\"color\":\"#2a3f5f\"},\"marker\":{\"line\":{\"color\":\"#E5ECF6\",\"width\":0.5},\"pattern\":{\"fillmode\":\"overlay\",\"size\":10,\"solidity\":0.2}},\"type\":\"bar\"}],\"carpet\":[{\"aaxis\":{\"endlinecolor\":\"#2a3f5f\",\"gridcolor\":\"white\",\"linecolor\":\"white\",\"minorgridcolor\":\"white\",\"startlinecolor\":\"#2a3f5f\"},\"baxis\":{\"endlinecolor\":\"#2a3f5f\",\"gridcolor\":\"white\",\"linecolor\":\"white\",\"minorgridcolor\":\"white\",\"startlinecolor\":\"#2a3f5f\"},\"type\":\"carpet\"}],\"choropleth\":[{\"colorbar\":{\"outlinewidth\":0,\"ticks\":\"\"},\"type\":\"choropleth\"}],\"contourcarpet\":[{\"colorbar\":{\"outlinewidth\":0,\"ticks\":\"\"},\"type\":\"contourcarpet\"}],\"contour\":[{\"colorbar\":{\"outlinewidth\":0,\"ticks\":\"\"},\"colorscale\":[[0.0,\"#0d0887\"],[0.1111111111111111,\"#46039f\"],[0.2222222222222222,\"#7201a8\"],[0.3333333333333333,\"#9c179e\"],[0.4444444444444444,\"#bd3786\"],[0.5555555555555556,\"#d8576b\"],[0.6666666666666666,\"#ed7953\"],[0.7777777777777778,\"#fb9f3a\"],[0.8888888888888888,\"#fdca26\"],[1.0,\"#f0f921\"]],\"type\":\"contour\"}],\"heatmapgl\":[{\"colorbar\":{\"outlinewidth\":0,\"ticks\":\"\"},\"colorscale\":[[0.0,\"#0d0887\"],[0.1111111111111111,\"#46039f\"],[0.2222222222222222,\"#7201a8\"],[0.3333333333333333,\"#9c179e\"],[0.4444444444444444,\"#bd3786\"],[0.5555555555555556,\"#d8576b\"],[0.6666666666666666,\"#ed7953\"],[0.7777777777777778,\"#fb9f3a\"],[0.8888888888888888,\"#fdca26\"],[1.0,\"#f0f921\"]],\"type\":\"heatmapgl\"}],\"heatmap\":[{\"colorbar\":{\"outlinewidth\":0,\"ticks\":\"\"},\"colorscale\":[[0.0,\"#0d0887\"],[0.1111111111111111,\"#46039f\"],[0.2222222222222222,\"#7201a8\"],[0.3333333333333333,\"#9c179e\"],[0.4444444444444444,\"#bd3786\"],[0.5555555555555556,\"#d8576b\"],[0.6666666666666666,\"#ed7953\"],[0.7777777777777778,\"#fb9f3a\"],[0.8888888888888888,\"#fdca26\"],[1.0,\"#f0f921\"]],\"type\":\"heatmap\"}],\"histogram2dcontour\":[{\"colorbar\":{\"outlinewidth\":0,\"ticks\":\"\"},\"colorscale\":[[0.0,\"#0d0887\"],[0.1111111111111111,\"#46039f\"],[0.2222222222222222,\"#7201a8\"],[0.3333333333333333,\"#9c179e\"],[0.4444444444444444,\"#bd3786\"],[0.5555555555555556,\"#d8576b\"],[0.6666666666666666,\"#ed7953\"],[0.7777777777777778,\"#fb9f3a\"],[0.8888888888888888,\"#fdca26\"],[1.0,\"#f0f921\"]],\"type\":\"histogram2dcontour\"}],\"histogram2d\":[{\"colorbar\":{\"outlinewidth\":0,\"ticks\":\"\"},\"colorscale\":[[0.0,\"#0d0887\"],[0.1111111111111111,\"#46039f\"],[0.2222222222222222,\"#7201a8\"],[0.3333333333333333,\"#9c179e\"],[0.4444444444444444,\"#bd3786\"],[0.5555555555555556,\"#d8576b\"],[0.6666666666666666,\"#ed7953\"],[0.7777777777777778,\"#fb9f3a\"],[0.8888888888888888,\"#fdca26\"],[1.0,\"#f0f921\"]],\"type\":\"histogram2d\"}],\"histogram\":[{\"marker\":{\"pattern\":{\"fillmode\":\"overlay\",\"size\":10,\"solidity\":0.2}},\"type\":\"histogram\"}],\"mesh3d\":[{\"colorbar\":{\"outlinewidth\":0,\"ticks\":\"\"},\"type\":\"mesh3d\"}],\"parcoords\":[{\"line\":{\"colorbar\":{\"outlinewidth\":0,\"ticks\":\"\"}},\"type\":\"parcoords\"}],\"pie\":[{\"automargin\":true,\"type\":\"pie\"}],\"scatter3d\":[{\"line\":{\"colorbar\":{\"outlinewidth\":0,\"ticks\":\"\"}},\"marker\":{\"colorbar\":{\"outlinewidth\":0,\"ticks\":\"\"}},\"type\":\"scatter3d\"}],\"scattercarpet\":[{\"marker\":{\"colorbar\":{\"outlinewidth\":0,\"ticks\":\"\"}},\"type\":\"scattercarpet\"}],\"scattergeo\":[{\"marker\":{\"colorbar\":{\"outlinewidth\":0,\"ticks\":\"\"}},\"type\":\"scattergeo\"}],\"scattergl\":[{\"marker\":{\"colorbar\":{\"outlinewidth\":0,\"ticks\":\"\"}},\"type\":\"scattergl\"}],\"scattermapbox\":[{\"marker\":{\"colorbar\":{\"outlinewidth\":0,\"ticks\":\"\"}},\"type\":\"scattermapbox\"}],\"scatterpolargl\":[{\"marker\":{\"colorbar\":{\"outlinewidth\":0,\"ticks\":\"\"}},\"type\":\"scatterpolargl\"}],\"scatterpolar\":[{\"marker\":{\"colorbar\":{\"outlinewidth\":0,\"ticks\":\"\"}},\"type\":\"scatterpolar\"}],\"scatter\":[{\"fillpattern\":{\"fillmode\":\"overlay\",\"size\":10,\"solidity\":0.2},\"type\":\"scatter\"}],\"scatterternary\":[{\"marker\":{\"colorbar\":{\"outlinewidth\":0,\"ticks\":\"\"}},\"type\":\"scatterternary\"}],\"surface\":[{\"colorbar\":{\"outlinewidth\":0,\"ticks\":\"\"},\"colorscale\":[[0.0,\"#0d0887\"],[0.1111111111111111,\"#46039f\"],[0.2222222222222222,\"#7201a8\"],[0.3333333333333333,\"#9c179e\"],[0.4444444444444444,\"#bd3786\"],[0.5555555555555556,\"#d8576b\"],[0.6666666666666666,\"#ed7953\"],[0.7777777777777778,\"#fb9f3a\"],[0.8888888888888888,\"#fdca26\"],[1.0,\"#f0f921\"]],\"type\":\"surface\"}],\"table\":[{\"cells\":{\"fill\":{\"color\":\"#EBF0F8\"},\"line\":{\"color\":\"white\"}},\"header\":{\"fill\":{\"color\":\"#C8D4E3\"},\"line\":{\"color\":\"white\"}},\"type\":\"table\"}]},\"layout\":{\"annotationdefaults\":{\"arrowcolor\":\"#2a3f5f\",\"arrowhead\":0,\"arrowwidth\":1},\"autotypenumbers\":\"strict\",\"coloraxis\":{\"colorbar\":{\"outlinewidth\":0,\"ticks\":\"\"}},\"colorscale\":{\"diverging\":[[0,\"#8e0152\"],[0.1,\"#c51b7d\"],[0.2,\"#de77ae\"],[0.3,\"#f1b6da\"],[0.4,\"#fde0ef\"],[0.5,\"#f7f7f7\"],[0.6,\"#e6f5d0\"],[0.7,\"#b8e186\"],[0.8,\"#7fbc41\"],[0.9,\"#4d9221\"],[1,\"#276419\"]],\"sequential\":[[0.0,\"#0d0887\"],[0.1111111111111111,\"#46039f\"],[0.2222222222222222,\"#7201a8\"],[0.3333333333333333,\"#9c179e\"],[0.4444444444444444,\"#bd3786\"],[0.5555555555555556,\"#d8576b\"],[0.6666666666666666,\"#ed7953\"],[0.7777777777777778,\"#fb9f3a\"],[0.8888888888888888,\"#fdca26\"],[1.0,\"#f0f921\"]],\"sequentialminus\":[[0.0,\"#0d0887\"],[0.1111111111111111,\"#46039f\"],[0.2222222222222222,\"#7201a8\"],[0.3333333333333333,\"#9c179e\"],[0.4444444444444444,\"#bd3786\"],[0.5555555555555556,\"#d8576b\"],[0.6666666666666666,\"#ed7953\"],[0.7777777777777778,\"#fb9f3a\"],[0.8888888888888888,\"#fdca26\"],[1.0,\"#f0f921\"]]},\"colorway\":[\"#636efa\",\"#EF553B\",\"#00cc96\",\"#ab63fa\",\"#FFA15A\",\"#19d3f3\",\"#FF6692\",\"#B6E880\",\"#FF97FF\",\"#FECB52\"],\"font\":{\"color\":\"#2a3f5f\"},\"geo\":{\"bgcolor\":\"white\",\"lakecolor\":\"white\",\"landcolor\":\"#E5ECF6\",\"showlakes\":true,\"showland\":true,\"subunitcolor\":\"white\"},\"hoverlabel\":{\"align\":\"left\"},\"hovermode\":\"closest\",\"mapbox\":{\"style\":\"light\"},\"paper_bgcolor\":\"white\",\"plot_bgcolor\":\"#E5ECF6\",\"polar\":{\"angularaxis\":{\"gridcolor\":\"white\",\"linecolor\":\"white\",\"ticks\":\"\"},\"bgcolor\":\"#E5ECF6\",\"radialaxis\":{\"gridcolor\":\"white\",\"linecolor\":\"white\",\"ticks\":\"\"}},\"scene\":{\"xaxis\":{\"backgroundcolor\":\"#E5ECF6\",\"gridcolor\":\"white\",\"gridwidth\":2,\"linecolor\":\"white\",\"showbackground\":true,\"ticks\":\"\",\"zerolinecolor\":\"white\"},\"yaxis\":{\"backgroundcolor\":\"#E5ECF6\",\"gridcolor\":\"white\",\"gridwidth\":2,\"linecolor\":\"white\",\"showbackground\":true,\"ticks\":\"\",\"zerolinecolor\":\"white\"},\"zaxis\":{\"backgroundcolor\":\"#E5ECF6\",\"gridcolor\":\"white\",\"gridwidth\":2,\"linecolor\":\"white\",\"showbackground\":true,\"ticks\":\"\",\"zerolinecolor\":\"white\"}},\"shapedefaults\":{\"line\":{\"color\":\"#2a3f5f\"}},\"ternary\":{\"aaxis\":{\"gridcolor\":\"white\",\"linecolor\":\"white\",\"ticks\":\"\"},\"baxis\":{\"gridcolor\":\"white\",\"linecolor\":\"white\",\"ticks\":\"\"},\"bgcolor\":\"#E5ECF6\",\"caxis\":{\"gridcolor\":\"white\",\"linecolor\":\"white\",\"ticks\":\"\"}},\"title\":{\"x\":0.05},\"xaxis\":{\"automargin\":true,\"gridcolor\":\"white\",\"linecolor\":\"white\",\"ticks\":\"\",\"title\":{\"standoff\":15},\"zerolinecolor\":\"white\",\"zerolinewidth\":2},\"yaxis\":{\"automargin\":true,\"gridcolor\":\"white\",\"linecolor\":\"white\",\"ticks\":\"\",\"title\":{\"standoff\":15},\"zerolinecolor\":\"white\",\"zerolinewidth\":2}}},\"width\":800,\"xaxis\":{\"gridwidth\":1,\"tickfont\":{\"size\":18},\"title\":{\"font\":{\"size\":24},\"text\":\"Melting Temperature (K)\"},\"zeroline\":false},\"yaxis\":{\"gridwidth\":1,\"tickfont\":{\"size\":18},\"title\":{\"font\":{\"size\":24},\"text\":\"Young's Modulus (GPa)\"},\"zeroline\":false}},                        {\"responsive\": true}                    ).then(function(){\n",
       "                            \n",
       "var gd = document.getElementById('21508e3f-eea0-45cd-90d1-e02717f93894');\n",
       "var x = new MutationObserver(function (mutations, observer) {{\n",
       "        var display = window.getComputedStyle(gd).display;\n",
       "        if (!display || display === 'none') {{\n",
       "            console.log([gd, 'removed!']);\n",
       "            Plotly.purge(gd);\n",
       "            observer.disconnect();\n",
       "        }}\n",
       "}});\n",
       "\n",
       "// Listen for the removal of the full notebook cells\n",
       "var notebookContainer = gd.closest('#notebook-container');\n",
       "if (notebookContainer) {{\n",
       "    x.observe(notebookContainer, {childList: true});\n",
       "}}\n",
       "\n",
       "// Listen for the clearing of the current output cell\n",
       "var outputEl = gd.closest('.output');\n",
       "if (outputEl) {{\n",
       "    x.observe(outputEl, {childList: true});\n",
       "}}\n",
       "\n",
       "                        })                };                });            </script>        </div>"
      ]
     },
     "metadata": {},
     "output_type": "display_data"
    }
   ],
   "source": [
    "predictions = regression(melt_train, melt_test, young_train, young_test) \n",
    "# This line calls the Regression model implemented in the function \n",
    "\n",
    "plot(melt_train, melt_test, young_train, young_test, \"Melting Temperature (K)\", \"Young's Modulus (GPa)\", predictions) \n",
    "# This line plots the results from that model"
   ]
  },
  {
   "cell_type": "code",
   "execution_count": null,
   "id": "f0456b30-10a2-406a-9a66-432d56ffb045",
   "metadata": {},
   "outputs": [],
   "source": []
  }
 ],
 "metadata": {
  "kernelspec": {
   "display_name": "Python 3 (ipykernel)",
   "language": "python",
   "name": "python3"
  },
  "language_info": {
   "codemirror_mode": {
    "name": "ipython",
    "version": 3
   },
   "file_extension": ".py",
   "mimetype": "text/x-python",
   "name": "python",
   "nbconvert_exporter": "python",
   "pygments_lexer": "ipython3",
   "version": "3.9.18"
  }
 },
 "nbformat": 4,
 "nbformat_minor": 5
}
